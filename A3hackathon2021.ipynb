{
  "nbformat": 4,
  "nbformat_minor": 0,
  "metadata": {
    "colab": {
      "name": "A3hackathon2021.ipynb",
      "provenance": [],
      "authorship_tag": "ABX9TyMj3UyJwv/aqGOBA4C/lo2R",
      "include_colab_link": true
    },
    "kernelspec": {
      "name": "python3",
      "display_name": "Python 3"
    },
    "language_info": {
      "name": "python"
    }
  },
  "cells": [
    {
      "cell_type": "markdown",
      "metadata": {
        "id": "view-in-github",
        "colab_type": "text"
      },
      "source": [
        "<a href=\"https://colab.research.google.com/github/Kan4me/HackathonA3Data2021/blob/main/A3hackathon2021.ipynb\" target=\"_parent\"><img src=\"https://colab.research.google.com/assets/colab-badge.svg\" alt=\"Open In Colab\"/></a>"
      ]
    },
    {
      "cell_type": "markdown",
      "metadata": {
        "id": "nDCn6Br3ZVZo"
      },
      "source": [
        "# Hackathon A3 Data 2021"
      ]
    },
    {
      "cell_type": "markdown",
      "metadata": {
        "id": "JlNbAKxiZcHF"
      },
      "source": [
        "## Objetivo"
      ]
    },
    {
      "cell_type": "markdown",
      "metadata": {
        "id": "bq7Gb6ACaClL"
      },
      "source": [
        "Desenvolver um pipeline de extração, transformação e disponibilização de dados. Além disso, responder de forma visual as seguintes questões:\n",
        "\n",
        "\n",
        "1. Nos últimos 10 anos, quais foram os salários médios de homens e mulheres que\n",
        "trabalham com tecnologia na região sudeste do Brasil por ano?\n",
        "2. Nos últimos 10 anos, quais foram os salários médios das pessoas por nível de\n",
        "escolaridade que trabalhavam no setor de agronegócio na região sul do Brasil?\n",
        "3. Entre os setores de tecnologia, indústria automobilística e profissionais da\n",
        "saúde, qual deles teve o maior crescimento? Qual foi o número de trabalhadores\n",
        "em cada setor por ano?\n",
        "4. Nos últimos 10 anos, quais foram os setores que possuem, em cada ano, o maior\n",
        "número de trabalhadores que possuem jornada semanal inferior a 40h?\n",
        "5. Qual é o número absoluto de pessoas por cada categoria de sexo que realizaram\n",
        "trabalho intermitente em cada um dos últimos anos?"
      ]
    },
    {
      "cell_type": "markdown",
      "metadata": {
        "id": "0gRc_kBCZfdS"
      },
      "source": [
        "## Fonte de Dados"
      ]
    },
    {
      "cell_type": "markdown",
      "metadata": {
        "id": "NI-ai6h1Z3jF"
      },
      "source": [
        "Microdados da RAIS (Ministério do Trabalho) dos últimos 10 anos - de 2010 a 2019"
      ]
    },
    {
      "cell_type": "markdown",
      "metadata": {
        "id": "O5Nb-OWWiGg7"
      },
      "source": [
        "# Acesso aos dados\n"
      ]
    },
    {
      "cell_type": "markdown",
      "metadata": {
        "id": "hPmp5sVGiKjC"
      },
      "source": [
        "O acesso aos dados foi realizado de forma manual seguindo os seguintes passos:\n",
        "\n",
        "1. Adiconando um Acesso de Rede de forma manual conforme o link ftp://ftp.mtps.gov.br/pdet/microdados/RAIS/ e login anônimo;\n",
        "2. Dados upados de forma manual no Google Drive pessoal."
      ]
    },
    {
      "cell_type": "markdown",
      "metadata": {
        "id": "SnSMPdu5gOmZ"
      },
      "source": [
        "# Conexão com o Google Drive e instalação dos pacotes utilizados"
      ]
    },
    {
      "cell_type": "code",
      "metadata": {
        "id": "ypaZdpzIfD1w"
      },
      "source": [
        "# pip install PyDrive\n",
        "from pydrive.auth import GoogleAuth\n",
        "from pydrive.drive import GoogleDrive\n",
        "from google.colab import auth\n",
        "from oauth2client.client import GoogleCredentials\n",
        "\n",
        "auth.authenticate_user()\n",
        "gauth = GoogleAuth()\n",
        "gauth.credentials = GoogleCredentials.get_application_default()\n",
        "drive = GoogleDrive(gauth)"
      ],
      "execution_count": 1,
      "outputs": []
    },
    {
      "cell_type": "code",
      "metadata": {
        "colab": {
          "base_uri": "https://localhost:8080/"
        },
        "id": "xaAq_I5jgOHQ",
        "outputId": "bbea9748-52dd-4f59-a72e-4c3271d77a2d"
      },
      "source": [
        "#Mounted Google Drive de interesse\n",
        "from google.colab import drive\n",
        "drive.mount(\"/content/drive\", force_remount=True)"
      ],
      "execution_count": 2,
      "outputs": [
        {
          "output_type": "stream",
          "text": [
            "Mounted at /content/drive\n"
          ],
          "name": "stdout"
        }
      ]
    },
    {
      "cell_type": "code",
      "metadata": {
        "colab": {
          "base_uri": "https://localhost:8080/"
        },
        "id": "KRXCDfsPgM22",
        "outputId": "01dd91a9-cc0f-444a-fc66-e8d1b0ccd486"
      },
      "source": [
        "# Configuração das bibliotecas de interesse\n",
        "\n",
        "import pandas as pd\n",
        "import numpy as np\n",
        "import plotly.graph_objects as go\n",
        "import os\n",
        "import pyarrow as pa\n",
        "import pyarrow.parquet as pq\n",
        "!pip install py7zr"
      ],
      "execution_count": 3,
      "outputs": [
        {
          "output_type": "stream",
          "text": [
            "Requirement already satisfied: py7zr in /usr/local/lib/python3.7/dist-packages (0.16.1)\n",
            "Requirement already satisfied: texttable in /usr/local/lib/python3.7/dist-packages (from py7zr) (1.6.3)\n",
            "Requirement already satisfied: brotli>=1.0.9; platform_python_implementation == \"CPython\" in /usr/local/lib/python3.7/dist-packages (from py7zr) (1.0.9)\n",
            "Requirement already satisfied: pyzstd<0.15.0,>=0.14.4 in /usr/local/lib/python3.7/dist-packages (from py7zr) (0.14.4)\n",
            "Requirement already satisfied: multivolumefile>=0.2.3 in /usr/local/lib/python3.7/dist-packages (from py7zr) (0.2.3)\n",
            "Requirement already satisfied: bcj-cffi<0.6.0,>=0.5.1 in /usr/local/lib/python3.7/dist-packages (from py7zr) (0.5.1)\n",
            "Requirement already satisfied: pyppmd>=0.14.0 in /usr/local/lib/python3.7/dist-packages (from py7zr) (0.15.0)\n",
            "Requirement already satisfied: pycryptodomex>=3.6.6 in /usr/local/lib/python3.7/dist-packages (from py7zr) (3.10.1)\n",
            "Requirement already satisfied: importlib-metadata; python_version < \"3.8\" in /usr/local/lib/python3.7/dist-packages (from py7zr) (4.5.0)\n",
            "Requirement already satisfied: cffi>=1.14.0 in /usr/local/lib/python3.7/dist-packages (from bcj-cffi<0.6.0,>=0.5.1->py7zr) (1.14.5)\n",
            "Requirement already satisfied: zipp>=0.5 in /usr/local/lib/python3.7/dist-packages (from importlib-metadata; python_version < \"3.8\"->py7zr) (3.4.1)\n",
            "Requirement already satisfied: typing-extensions>=3.6.4; python_version < \"3.8\" in /usr/local/lib/python3.7/dist-packages (from importlib-metadata; python_version < \"3.8\"->py7zr) (3.7.4.3)\n",
            "Requirement already satisfied: pycparser in /usr/local/lib/python3.7/dist-packages (from cffi>=1.14.0->bcj-cffi<0.6.0,>=0.5.1->py7zr) (2.20)\n"
          ],
          "name": "stdout"
        }
      ]
    },
    {
      "cell_type": "markdown",
      "metadata": {
        "id": "YPDKW-kjffIM"
      },
      "source": [
        "## Definiçao diretório de interesse no Google Drive"
      ]
    },
    {
      "cell_type": "code",
      "metadata": {
        "id": "hRyNdkfd3BxJ"
      },
      "source": [
        "import py7zr\n",
        "\n",
        "os.chdir(\"/content/drive/MyDrive/data.source/A3Data\")"
      ],
      "execution_count": 4,
      "outputs": []
    },
    {
      "cell_type": "markdown",
      "metadata": {
        "id": "A1D18ugZI38d"
      },
      "source": [
        "# Carregar dicionários auxiliares"
      ]
    },
    {
      "cell_type": "markdown",
      "metadata": {
        "id": "bGugZXGYjnPj"
      },
      "source": [
        "Fontes dos dicionários listados abaixo:\n",
        "\n",
        "* sex_label, school_label e age_label: planilha 'RAIS_vinculos_layout' disponibilizada no seguinte domínio: ftp://ftp.mtps.gov.br/pdet/microdados/RAIS/\n",
        "\n"
      ]
    },
    {
      "cell_type": "code",
      "metadata": {
        "id": "FgVvoETwC-pL"
      },
      "source": [
        "sex_label = {1: \"M\", 2: \"F\"}\n",
        "\n",
        "school_label = {1:\t\"Analfabeto\", 2:\t\"Até 5.a incomp\", 3:\t\"Até 5.a compl\", \n",
        "                4:\t\"6 a 9.a EF\", 5:\t\"EF compl\", 6: \"EM incomp\",\n",
        "                7:\t\"EM compl\", 8:\t\"ES incomp\", 9: \"ES compl\", 10:\t\"Mestrado\",\n",
        "                11:\t\"Doutorado\", -1:\t\"Ignorado\"}\n",
        "\n",
        "age_label = {1:\t\"10-14\", 2:\t\"15-17\", 3:\t\"18-24\", 4:\t\"25-29\", 5:\t\"30-39\", \n",
        "             6:\t\"40-49\", 7:\t'50-64', 8:\t\"65+\"}"
      ],
      "execution_count": 5,
      "outputs": []
    },
    {
      "cell_type": "markdown",
      "metadata": {
        "id": "1K_BGZrWfVqD"
      },
      "source": [
        "# Tratamento dos dados - Por Ano"
      ]
    },
    {
      "cell_type": "markdown",
      "metadata": {
        "id": "AD930FEzGWp8"
      },
      "source": [
        "Colunas de interesse de 2010 a 2014:\n",
        "* 'CNAE 2.0 Classe'\n",
        "* 'Faixa Etária'\n",
        "* 'Escolaridade após 2005'\n",
        "* 'Qtd Hora Contr' - Quando tal valor é igual a 1, indica que o indivíduo realizou Trabalho Intermitente naquele ano. Fonte: [Manual da RAIS](http://www.rais.gov.br/sitio/rais_ftp/ManualRAIS2020.pdf)\n",
        "* 'Vl Remun Média Nom'\n",
        "* 'Sexo Trabalhador'\n"
      ]
    },
    {
      "cell_type": "code",
      "metadata": {
        "id": "fFb7IKmWwriJ"
      },
      "source": [
        "col_2010to2014 = [\"CNAE 2.0 Classe\", \"Faixa Etária\", \"Escolaridade após 2005\", \n",
        "            \"Qtd Hora Contr\", \"Vl Remun Média Nom\", \"Sexo Trabalhador\"]"
      ],
      "execution_count": 6,
      "outputs": []
    },
    {
      "cell_type": "markdown",
      "metadata": {
        "id": "eHyEnZgTCoEo"
      },
      "source": [
        "## 2010\n"
      ]
    },
    {
      "cell_type": "markdown",
      "metadata": {
        "id": "XzFA3h0wChol"
      },
      "source": [
        "### Região Norte\n"
      ]
    },
    {
      "cell_type": "code",
      "metadata": {
        "id": "JFojw8yE3mqm"
      },
      "source": [
        "norte_2010_zip = [\"AC2010.7z\", \"AP2010.7z\", \"AM2010.7z\", \"PA2010.7z\", \"RO2010.7z\", \n",
        "                  \"RR2010.7z\", \"TO2010.7z\"]\n",
        "\n",
        "for i in range(len(norte_2010_zip)):\n",
        "  with py7zr.SevenZipFile(norte_2010_zip[i], mode='r') as z:\n",
        "    z.extractall()"
      ],
      "execution_count": null,
      "outputs": []
    },
    {
      "cell_type": "code",
      "metadata": {
        "id": "pvgeEXrJB2Np"
      },
      "source": [
        "norte_2010_txt = [\"AC2010.txt\", \"AP2010.txt\", \"AM2010.txt\", \"PA2010.txt\", \n",
        "                  \"RO2010.txt\", \"RR2010.txt\", \"TO2010.txt\"]\n",
        "\n",
        "df_norte_2010 = pd.DataFrame(columns= col_2010to2014)\n",
        "\n",
        "for i in range(len(norte_2010_txt)):\n",
        "  df = pd.read_csv(norte_2010_txt[i], encoding='ISO-8859-1', sep= \";\", header= 0)\n",
        "  df = df.loc[:, col_2010to2014]\n",
        "  df_norte_2010 = df_norte_2010.append(df)"
      ],
      "execution_count": 7,
      "outputs": []
    },
    {
      "cell_type": "code",
      "metadata": {
        "colab": {
          "base_uri": "https://localhost:8080/",
          "height": 508
        },
        "id": "NE2rw6tVL_qR",
        "outputId": "e02e41e8-062a-4127-803a-0ae2d37dd886"
      },
      "source": [
        "df_norte_2010[\"Ano\"] = 2010\n",
        "df_norte_2010[\"Sexo Trabalhador\"] = df_norte_2010[\"Sexo Trabalhador\"].replace(sex_label)\n",
        "df_norte_2010[\"Escolaridade após 2005\"] = df_norte_2010[\"Escolaridade após 2005\"].replace(school_label)\n",
        "df_norte_2010[\"Faixa Etária\"] = df_norte_2010[\"Faixa Etária\"].replace(age_label)\n",
        "df_norte_2010[\"Vl Remun Média Nom\"] = df_norte_2010[\"Vl Remun Média Nom\"].str.replace(\",\", \".\")\n",
        "df_norte_2010[\"Vl Remun Média Nom\"] = pd.to_numeric(df_norte_2010[\"Vl Remun Média Nom\"])\n",
        "\n",
        "df_norte_2010.head(15)"
      ],
      "execution_count": 8,
      "outputs": [
        {
          "output_type": "execute_result",
          "data": {
            "text/html": [
              "<div>\n",
              "<style scoped>\n",
              "    .dataframe tbody tr th:only-of-type {\n",
              "        vertical-align: middle;\n",
              "    }\n",
              "\n",
              "    .dataframe tbody tr th {\n",
              "        vertical-align: top;\n",
              "    }\n",
              "\n",
              "    .dataframe thead th {\n",
              "        text-align: right;\n",
              "    }\n",
              "</style>\n",
              "<table border=\"1\" class=\"dataframe\">\n",
              "  <thead>\n",
              "    <tr style=\"text-align: right;\">\n",
              "      <th></th>\n",
              "      <th>CNAE 2.0 Classe</th>\n",
              "      <th>Faixa Etária</th>\n",
              "      <th>Escolaridade após 2005</th>\n",
              "      <th>Qtd Hora Contr</th>\n",
              "      <th>Vl Remun Média Nom</th>\n",
              "      <th>Sexo Trabalhador</th>\n",
              "      <th>Ano</th>\n",
              "    </tr>\n",
              "  </thead>\n",
              "  <tbody>\n",
              "    <tr>\n",
              "      <th>0</th>\n",
              "      <td>16102</td>\n",
              "      <td>30-39</td>\n",
              "      <td>Analfabeto</td>\n",
              "      <td>44</td>\n",
              "      <td>765.00</td>\n",
              "      <td>M</td>\n",
              "      <td>2010</td>\n",
              "    </tr>\n",
              "    <tr>\n",
              "      <th>1</th>\n",
              "      <td>16102</td>\n",
              "      <td>30-39</td>\n",
              "      <td>Analfabeto</td>\n",
              "      <td>44</td>\n",
              "      <td>721.99</td>\n",
              "      <td>M</td>\n",
              "      <td>2010</td>\n",
              "    </tr>\n",
              "    <tr>\n",
              "      <th>2</th>\n",
              "      <td>16102</td>\n",
              "      <td>18-24</td>\n",
              "      <td>Analfabeto</td>\n",
              "      <td>44</td>\n",
              "      <td>595.50</td>\n",
              "      <td>M</td>\n",
              "      <td>2010</td>\n",
              "    </tr>\n",
              "    <tr>\n",
              "      <th>3</th>\n",
              "      <td>41204</td>\n",
              "      <td>30-39</td>\n",
              "      <td>Analfabeto</td>\n",
              "      <td>44</td>\n",
              "      <td>503.46</td>\n",
              "      <td>M</td>\n",
              "      <td>2010</td>\n",
              "    </tr>\n",
              "    <tr>\n",
              "      <th>4</th>\n",
              "      <td>16102</td>\n",
              "      <td>30-39</td>\n",
              "      <td>Analfabeto</td>\n",
              "      <td>44</td>\n",
              "      <td>792.93</td>\n",
              "      <td>M</td>\n",
              "      <td>2010</td>\n",
              "    </tr>\n",
              "    <tr>\n",
              "      <th>5</th>\n",
              "      <td>56201</td>\n",
              "      <td>18-24</td>\n",
              "      <td>Analfabeto</td>\n",
              "      <td>44</td>\n",
              "      <td>600.00</td>\n",
              "      <td>M</td>\n",
              "      <td>2010</td>\n",
              "    </tr>\n",
              "    <tr>\n",
              "      <th>6</th>\n",
              "      <td>41204</td>\n",
              "      <td>50-64</td>\n",
              "      <td>Analfabeto</td>\n",
              "      <td>44</td>\n",
              "      <td>718.65</td>\n",
              "      <td>M</td>\n",
              "      <td>2010</td>\n",
              "    </tr>\n",
              "    <tr>\n",
              "      <th>7</th>\n",
              "      <td>41204</td>\n",
              "      <td>50-64</td>\n",
              "      <td>Analfabeto</td>\n",
              "      <td>44</td>\n",
              "      <td>746.80</td>\n",
              "      <td>M</td>\n",
              "      <td>2010</td>\n",
              "    </tr>\n",
              "    <tr>\n",
              "      <th>8</th>\n",
              "      <td>41204</td>\n",
              "      <td>50-64</td>\n",
              "      <td>Analfabeto</td>\n",
              "      <td>44</td>\n",
              "      <td>659.02</td>\n",
              "      <td>M</td>\n",
              "      <td>2010</td>\n",
              "    </tr>\n",
              "    <tr>\n",
              "      <th>9</th>\n",
              "      <td>81214</td>\n",
              "      <td>25-29</td>\n",
              "      <td>Analfabeto</td>\n",
              "      <td>44</td>\n",
              "      <td>658.93</td>\n",
              "      <td>M</td>\n",
              "      <td>2010</td>\n",
              "    </tr>\n",
              "    <tr>\n",
              "      <th>10</th>\n",
              "      <td>81214</td>\n",
              "      <td>25-29</td>\n",
              "      <td>Analfabeto</td>\n",
              "      <td>44</td>\n",
              "      <td>585.35</td>\n",
              "      <td>M</td>\n",
              "      <td>2010</td>\n",
              "    </tr>\n",
              "    <tr>\n",
              "      <th>11</th>\n",
              "      <td>81214</td>\n",
              "      <td>50-64</td>\n",
              "      <td>Analfabeto</td>\n",
              "      <td>44</td>\n",
              "      <td>655.81</td>\n",
              "      <td>M</td>\n",
              "      <td>2010</td>\n",
              "    </tr>\n",
              "    <tr>\n",
              "      <th>12</th>\n",
              "      <td>81214</td>\n",
              "      <td>30-39</td>\n",
              "      <td>Analfabeto</td>\n",
              "      <td>44</td>\n",
              "      <td>602.66</td>\n",
              "      <td>M</td>\n",
              "      <td>2010</td>\n",
              "    </tr>\n",
              "    <tr>\n",
              "      <th>13</th>\n",
              "      <td>41204</td>\n",
              "      <td>25-29</td>\n",
              "      <td>Analfabeto</td>\n",
              "      <td>44</td>\n",
              "      <td>564.24</td>\n",
              "      <td>M</td>\n",
              "      <td>2010</td>\n",
              "    </tr>\n",
              "    <tr>\n",
              "      <th>14</th>\n",
              "      <td>41204</td>\n",
              "      <td>40-49</td>\n",
              "      <td>Analfabeto</td>\n",
              "      <td>44</td>\n",
              "      <td>563.28</td>\n",
              "      <td>M</td>\n",
              "      <td>2010</td>\n",
              "    </tr>\n",
              "  </tbody>\n",
              "</table>\n",
              "</div>"
            ],
            "text/plain": [
              "   CNAE 2.0 Classe Faixa Etária  ... Sexo Trabalhador   Ano\n",
              "0            16102        30-39  ...                M  2010\n",
              "1            16102        30-39  ...                M  2010\n",
              "2            16102        18-24  ...                M  2010\n",
              "3            41204        30-39  ...                M  2010\n",
              "4            16102        30-39  ...                M  2010\n",
              "5            56201        18-24  ...                M  2010\n",
              "6            41204        50-64  ...                M  2010\n",
              "7            41204        50-64  ...                M  2010\n",
              "8            41204        50-64  ...                M  2010\n",
              "9            81214        25-29  ...                M  2010\n",
              "10           81214        25-29  ...                M  2010\n",
              "11           81214        50-64  ...                M  2010\n",
              "12           81214        30-39  ...                M  2010\n",
              "13           41204        25-29  ...                M  2010\n",
              "14           41204        40-49  ...                M  2010\n",
              "\n",
              "[15 rows x 7 columns]"
            ]
          },
          "metadata": {
            "tags": []
          },
          "execution_count": 8
        }
      ]
    },
    {
      "cell_type": "markdown",
      "metadata": {
        "id": "bhZJvaECWtTO"
      },
      "source": [
        "**OBS:** Criar uma coluna no DataFrame final da mesorregião que informa o setor de atuação do indivíduo conforme o CNAE 2.0 apresentado. Ideia: usar regex para criar tal coluna."
      ]
    },
    {
      "cell_type": "code",
      "metadata": {
        "colab": {
          "base_uri": "https://localhost:8080/"
        },
        "id": "gkyI7X6FSy7f",
        "outputId": "76d4bb5b-eba2-4856-c6b7-6e3ab6b4a28d"
      },
      "source": [
        "df_norte_2010.dtypes"
      ],
      "execution_count": 9,
      "outputs": [
        {
          "output_type": "execute_result",
          "data": {
            "text/plain": [
              "CNAE 2.0 Classe            object\n",
              "Faixa Etária               object\n",
              "Escolaridade após 2005     object\n",
              "Qtd Hora Contr             object\n",
              "Vl Remun Média Nom        float64\n",
              "Sexo Trabalhador           object\n",
              "Ano                         int64\n",
              "dtype: object"
            ]
          },
          "metadata": {
            "tags": []
          },
          "execution_count": 9
        }
      ]
    },
    {
      "cell_type": "markdown",
      "metadata": {
        "id": "hghbUstEWZcX"
      },
      "source": [
        "**OBS:** Existem chances reais das varáveis acima apresentarem problemas nos demais passos do problema."
      ]
    },
    {
      "cell_type": "code",
      "metadata": {
        "id": "rTaPDVgDA9iM"
      },
      "source": [
        "df_norte_2010.to_csv (r'df_norte_2010.csv', index = False, header=True)"
      ],
      "execution_count": 10,
      "outputs": []
    },
    {
      "cell_type": "markdown",
      "metadata": {
        "id": "dfepdvu4riDS"
      },
      "source": [
        "Solução esperta para lidar com o problema de Volume dos dados:\n",
        "\n",
        "* Utilizar outros frameworks para paralelizar e particionar as tarefas, tipo [PySpark](https://spark.apache.org/docs/latest/api/python/) e [Dask DataFrame](https://docs.dask.org/en/latest/);\n",
        "* Salvar em parquet."
      ]
    },
    {
      "cell_type": "markdown",
      "metadata": {
        "id": "uaOmaQwUXHr_"
      },
      "source": [
        "#### A partir desse ponto, é replicar a mesma lógica apresentada acima nas demais regiões do mesmo ano e nos demais anos, com bastante atenção nas colunas que devem ser utilizadas que possuem a mesma informação de interesse."
      ]
    },
    {
      "cell_type": "markdown",
      "metadata": {
        "id": "qTUO1MOQ9Z17"
      },
      "source": [
        "### Região Nordeste"
      ]
    },
    {
      "cell_type": "markdown",
      "metadata": {
        "id": "dfn0DWCn9ZmM"
      },
      "source": [
        "### Região Centro-Oeste"
      ]
    },
    {
      "cell_type": "markdown",
      "metadata": {
        "id": "o5pYN6Z79ZQE"
      },
      "source": [
        "### Região Sudeste"
      ]
    },
    {
      "cell_type": "markdown",
      "metadata": {
        "id": "VeuXPBbc9YwD"
      },
      "source": [
        "### Região Sul"
      ]
    },
    {
      "cell_type": "markdown",
      "metadata": {
        "id": "7PvFfOn29_PX"
      },
      "source": [
        "## 2011"
      ]
    },
    {
      "cell_type": "markdown",
      "metadata": {
        "id": "0fzbZWkn-Sjf"
      },
      "source": [
        "### Região Norte\n"
      ]
    },
    {
      "cell_type": "markdown",
      "metadata": {
        "id": "4HE4e4Pt-SZn"
      },
      "source": [
        "### Região Nordeste"
      ]
    },
    {
      "cell_type": "markdown",
      "metadata": {
        "id": "sHOiA0F5-SQK"
      },
      "source": [
        "### Região Centro-Oeste"
      ]
    },
    {
      "cell_type": "markdown",
      "metadata": {
        "id": "ZrZPTBmm-SGP"
      },
      "source": [
        "### Região Sudeste"
      ]
    },
    {
      "cell_type": "markdown",
      "metadata": {
        "id": "cY0_GvCg-Rfy"
      },
      "source": [
        "### Região Sul"
      ]
    },
    {
      "cell_type": "markdown",
      "metadata": {
        "id": "8OQDMruk9_Cz"
      },
      "source": [
        "## 2012"
      ]
    },
    {
      "cell_type": "markdown",
      "metadata": {
        "id": "yL2POx9G-w_y"
      },
      "source": [
        "### Região Norte\n"
      ]
    },
    {
      "cell_type": "markdown",
      "metadata": {
        "id": "00Wn-0vY-y1u"
      },
      "source": [
        "### Região Nordeste"
      ]
    },
    {
      "cell_type": "markdown",
      "metadata": {
        "id": "_Cnt9baN-y1u"
      },
      "source": [
        "### Região Centro-Oeste"
      ]
    },
    {
      "cell_type": "markdown",
      "metadata": {
        "id": "XQPQjYxM-y1v"
      },
      "source": [
        "### Região Sudeste"
      ]
    },
    {
      "cell_type": "markdown",
      "metadata": {
        "id": "d3Q9RFx7-y1v"
      },
      "source": [
        "### Região Sul"
      ]
    },
    {
      "cell_type": "markdown",
      "metadata": {
        "id": "q9PQfOW49-wP"
      },
      "source": [
        "## 2013"
      ]
    },
    {
      "cell_type": "markdown",
      "metadata": {
        "id": "TwQOLC73-_pI"
      },
      "source": [
        "### Região Norte\n"
      ]
    },
    {
      "cell_type": "markdown",
      "metadata": {
        "id": "s7wMNrT2-_pJ"
      },
      "source": [
        "### Região Nordeste"
      ]
    },
    {
      "cell_type": "markdown",
      "metadata": {
        "id": "Z3teCAXM-_pJ"
      },
      "source": [
        "### Região Centro-Oeste"
      ]
    },
    {
      "cell_type": "markdown",
      "metadata": {
        "id": "3R2DoM_2-_pJ"
      },
      "source": [
        "### Região Sudeste"
      ]
    },
    {
      "cell_type": "markdown",
      "metadata": {
        "id": "UsaUwsAe-_pJ"
      },
      "source": [
        "### Região Sul"
      ]
    },
    {
      "cell_type": "markdown",
      "metadata": {
        "id": "GKBEZfS-99_o"
      },
      "source": [
        "## 2014"
      ]
    },
    {
      "cell_type": "markdown",
      "metadata": {
        "id": "X8YB1oyQ_BCE"
      },
      "source": [
        "### Região Norte\n"
      ]
    },
    {
      "cell_type": "markdown",
      "metadata": {
        "id": "ENFzLDTm_BCF"
      },
      "source": [
        "### Região Nordeste"
      ]
    },
    {
      "cell_type": "markdown",
      "metadata": {
        "id": "qHDsVoVj_BCF"
      },
      "source": [
        "### Região Centro-Oeste"
      ]
    },
    {
      "cell_type": "markdown",
      "metadata": {
        "id": "ak_Vry-7_BCG"
      },
      "source": [
        "### Região Sudeste"
      ]
    },
    {
      "cell_type": "markdown",
      "metadata": {
        "id": "NMxqz4Dc_BCH"
      },
      "source": [
        "### Região Sul"
      ]
    },
    {
      "cell_type": "markdown",
      "metadata": {
        "id": "BTtyVhlW8v_E"
      },
      "source": [
        "## 2015"
      ]
    },
    {
      "cell_type": "markdown",
      "metadata": {
        "id": "ULIa2iOn_B_u"
      },
      "source": [
        "### Região Norte\n"
      ]
    },
    {
      "cell_type": "markdown",
      "metadata": {
        "id": "6R7VswUJ_B_v"
      },
      "source": [
        "### Região Nordeste"
      ]
    },
    {
      "cell_type": "markdown",
      "metadata": {
        "id": "gEhK22fW_B_v"
      },
      "source": [
        "### Região Centro-Oeste"
      ]
    },
    {
      "cell_type": "markdown",
      "metadata": {
        "id": "Z_myOEXx_B_w"
      },
      "source": [
        "### Região Sudeste"
      ]
    },
    {
      "cell_type": "markdown",
      "metadata": {
        "id": "yEehY5Cb_B_w"
      },
      "source": [
        "### Região Sul"
      ]
    },
    {
      "cell_type": "markdown",
      "metadata": {
        "id": "iddcEz7P8vyM"
      },
      "source": [
        "## 2016"
      ]
    },
    {
      "cell_type": "markdown",
      "metadata": {
        "id": "eKzmCGpE_DDT"
      },
      "source": [
        "### Região Norte\n"
      ]
    },
    {
      "cell_type": "markdown",
      "metadata": {
        "id": "xtZ1LjAz_DDU"
      },
      "source": [
        "### Região Nordeste"
      ]
    },
    {
      "cell_type": "markdown",
      "metadata": {
        "id": "v4xGWvQb_DDU"
      },
      "source": [
        "### Região Centro-Oeste"
      ]
    },
    {
      "cell_type": "markdown",
      "metadata": {
        "id": "pkmcKfIu_DDV"
      },
      "source": [
        "### Região Sudeste"
      ]
    },
    {
      "cell_type": "markdown",
      "metadata": {
        "id": "5LkvI7qa_DDV"
      },
      "source": [
        "### Região Sul"
      ]
    },
    {
      "cell_type": "markdown",
      "metadata": {
        "id": "Z1AYNGdv8vgP"
      },
      "source": [
        "## 2017"
      ]
    },
    {
      "cell_type": "markdown",
      "metadata": {
        "id": "ni-A2gdY_Dxt"
      },
      "source": [
        "### Região Norte\n"
      ]
    },
    {
      "cell_type": "markdown",
      "metadata": {
        "id": "nxgTov70_Dxt"
      },
      "source": [
        "### Região Nordeste"
      ]
    },
    {
      "cell_type": "markdown",
      "metadata": {
        "id": "0_VksLLw_Dxu"
      },
      "source": [
        "### Região Centro-Oeste"
      ]
    },
    {
      "cell_type": "markdown",
      "metadata": {
        "id": "SL3RXM_4_Dxv"
      },
      "source": [
        "### Região Sudeste"
      ]
    },
    {
      "cell_type": "markdown",
      "metadata": {
        "id": "0A8KyV0q_Dxv"
      },
      "source": [
        "### Região Sul"
      ]
    },
    {
      "cell_type": "markdown",
      "metadata": {
        "id": "N0WF423P8vOT"
      },
      "source": [
        "## 2018\n"
      ]
    },
    {
      "cell_type": "markdown",
      "metadata": {
        "id": "7AGpzfQ3_E_C"
      },
      "source": [
        "### Região Norte\n"
      ]
    },
    {
      "cell_type": "markdown",
      "metadata": {
        "id": "s7_FByH-_E_D"
      },
      "source": [
        "### Região Nordeste"
      ]
    },
    {
      "cell_type": "markdown",
      "metadata": {
        "id": "PnIlZOmu_E_D"
      },
      "source": [
        "### Região Centro-Oeste"
      ]
    },
    {
      "cell_type": "markdown",
      "metadata": {
        "id": "WSGIXXnH_E_E"
      },
      "source": [
        "### Região Sudeste"
      ]
    },
    {
      "cell_type": "markdown",
      "metadata": {
        "id": "Ci8aPLrZ_E_E"
      },
      "source": [
        "### Região Sul"
      ]
    },
    {
      "cell_type": "markdown",
      "metadata": {
        "id": "fkZwhF-w8u3z"
      },
      "source": [
        "## 2019"
      ]
    },
    {
      "cell_type": "markdown",
      "metadata": {
        "id": "B_mQ8sNQ_F76"
      },
      "source": [
        "### Região Norte\n"
      ]
    },
    {
      "cell_type": "markdown",
      "metadata": {
        "id": "hR2tWzR__F77"
      },
      "source": [
        "### Região Nordeste"
      ]
    },
    {
      "cell_type": "markdown",
      "metadata": {
        "id": "Kw2nu9gf_F78"
      },
      "source": [
        "### Região Centro-Oeste"
      ]
    },
    {
      "cell_type": "markdown",
      "metadata": {
        "id": "t_gxhT2F_F78"
      },
      "source": [
        "### Região Sudeste"
      ]
    },
    {
      "cell_type": "markdown",
      "metadata": {
        "id": "hNbh-V1Z_F79"
      },
      "source": [
        "### Região Sul"
      ]
    },
    {
      "cell_type": "markdown",
      "metadata": {
        "id": "PEIREGqA8mbe"
      },
      "source": [
        "# Esboço Pipeline"
      ]
    },
    {
      "cell_type": "markdown",
      "metadata": {
        "id": "I272kWhKc-eb"
      },
      "source": [
        "Desenvolver os códigos com [Pdpipe](https://pdpipe.github.io/pdpipe/doc/pdpipe/) que façam as seguintes tarefas:\n",
        "1. O tratamento de dados apresentado acima e demais refinamentos necessários;\n",
        "2. Apresentação visual das questões solicitadas utilizando o [Plotly](https://plotly.com/python/)."
      ]
    },
    {
      "cell_type": "markdown",
      "metadata": {
        "id": "YCwhNoWdMV6J"
      },
      "source": [
        "# Principais problemas enfrentados"
      ]
    },
    {
      "cell_type": "markdown",
      "metadata": {
        "id": "sVJbi9z93zod"
      },
      "source": [
        "## Volume de dados: \n"
      ]
    },
    {
      "cell_type": "markdown",
      "metadata": {
        "id": "9U_HcQsT4r6r"
      },
      "source": [
        "O serviço de armazenamento utilizado para desenvolver o presente desafio é Google Drive limitado a 15GB. \n",
        "\n",
        "Para desenvolver o desafio é necessário upar em uma pasta no armazenamento utilizado os arquivos de interesse, extrair os mesmos e depois salvar o data frame gerado no formato de interesse."
      ]
    },
    {
      "cell_type": "markdown",
      "metadata": {
        "id": "MIyc0_2M5veB"
      },
      "source": [
        "## Tratamento dos dados:"
      ]
    },
    {
      "cell_type": "markdown",
      "metadata": {
        "id": "EEkAHCAq5vO7"
      },
      "source": [
        "Para gerar os data frames de interesse, é necessário realizar diversas manipulações para manter e criar as informações relevantes do problema de interesse.\n",
        "\n",
        "Uma manipulação solicitada no problema é definir os setores da indústria que o indivíduo pertence. Tal definição depende de pesquisas no site do [Cadastro Nacional de Atividade Econômica - CNAE](https://concla.ibge.gov.br/busca-online-cnae.html)."
      ]
    },
    {
      "cell_type": "markdown",
      "metadata": {
        "id": "7mo2FzEk6mEw"
      },
      "source": [
        "## Curva de Aprendizado"
      ]
    },
    {
      "cell_type": "markdown",
      "metadata": {
        "id": "gLz8hRLL6tRA"
      },
      "source": [
        "Para tratar os dados e desenvolver o pipeline do problema, é necessário um intervalo de tempo maior do que 5 (cinco) dias corridos. "
      ]
    }
  ]
}